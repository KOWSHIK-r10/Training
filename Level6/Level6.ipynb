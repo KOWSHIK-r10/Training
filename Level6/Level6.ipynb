{
 "cells": [
  {
   "cell_type": "code",
   "execution_count": 2,
   "id": "df4871fe-8033-44b5-af26-2c7b56e2c521",
   "metadata": {},
   "outputs": [
    {
     "name": "stdout",
     "output_type": "stream",
     "text": [
      "Number of pets: Quantitative (Discrete)\n",
      "Blood type: Qualitative (Categorical)\n",
      "Weight in kg: Quantitative (Continuous)\n",
      "Satisfaction level: Qualitative (Ordinal)\n"
     ]
    }
   ],
   "source": [
    "#task4\n",
    "variables = {\n",
    "    \"Number of pets\": \"Quantitative (Discrete)\",\n",
    "    \"Blood type\": \"Qualitative (Categorical)\",\n",
    "    \"Weight in kg\": \"Quantitative (Continuous)\",\n",
    "    \"Satisfaction level\": \"Qualitative (Ordinal)\"\n",
    "}\n",
    "\n",
    "for var, var_type in variables.items():\n",
    "    print(f\"{var}: {var_type}\")"
   ]
  },
  {
   "cell_type": "code",
   "execution_count": 3,
   "id": "c7438288-db12-4833-a592-58a4c972a5d6",
   "metadata": {},
   "outputs": [
    {
     "name": "stdout",
     "output_type": "stream",
     "text": [
      "Task 5: Measures of Central Tendency\n",
      "Mean: 21.00\n",
      "Median: 5.5\n",
      "Mode: 5\n",
      "Interpretation: The mean is skewed by the outlier 100; median and mode better reflect the central tendency.\n"
     ]
    }
   ],
   "source": [
    "#task5\n",
    "import statistics\n",
    "data = [3, 5, 5, 6, 7, 100]\n",
    "mean_value = sum(data) / len(data)\n",
    "median_value = statistics.median(data)\n",
    "mode_value = statistics.mode(data)\n",
    "\n",
    "print(\"Task 5: Measures of Central Tendency\")\n",
    "print(f\"Mean: {mean_value:.2f}\")\n",
    "print(f\"Median: {median_value}\")\n",
    "print(f\"Mode: {mode_value}\")\n",
    "print(\"Interpretation: The mean is skewed by the outlier 100; median and mode better reflect the central tendency.\")"
   ]
  },
  {
   "cell_type": "code",
   "execution_count": 4,
   "id": "df65ecc5-315b-45ae-b4d2-dfb26e92a954",
   "metadata": {},
   "outputs": [
    {
     "name": "stdout",
     "output_type": "stream",
     "text": [
      "\n",
      "Task 6: Measures of Dispersion\n",
      "Variance: 8.0\n",
      "Standard Deviation: 2.828\n",
      "Interpretation: Variance shows the data spread, and standard deviation measures average distance from the mean.\n"
     ]
    }
   ],
   "source": [
    "#task6\n",
    "import math\n",
    "\n",
    "data_dispersion = [2, 4, 6, 8, 10]\n",
    "mean_dispersion = sum(data_dispersion) / len(data_dispersion)\n",
    "variance = sum((x - mean_dispersion) ** 2 for x in data_dispersion) / len(data_dispersion)\n",
    "std_deviation = math.sqrt(variance)\n",
    "print(\"\\nTask 6: Measures of Dispersion\")\n",
    "print(f\"Variance: {variance}\")\n",
    "print(f\"Standard Deviation: {std_deviation:.3f}\")\n",
    "print(\"Interpretation: Variance shows the data spread, and standard deviation measures average distance from the mean.\")"
   ]
  },
  {
   "cell_type": "code",
   "execution_count": 5,
   "id": "8668339b-e519-4394-be30-1dea5586f3fb",
   "metadata": {},
   "outputs": [
    {
     "name": "stdout",
     "output_type": "stream",
     "text": [
      "\n",
      "Task 7: Z-Scores and Interpretation\n",
      "Z-score for x = 60: 1.0\n",
      "Z-score for x = 40: -1.0\n",
      "Interpretation: x = 60 is 1 standard deviation above the mean; x = 40 is 1 standard deviation below the mean.\n"
     ]
    }
   ],
   "source": [
    "#task7\n",
    "mean_z = 50\n",
    "std_dev_z = 10\n",
    "x1 = 60\n",
    "x2 = 40\n",
    "z1 = (x1 - mean_z) / std_dev_z\n",
    "z2 = (x2 - mean_z) / std_dev_z\n",
    "\n",
    "print(\"\\nTask 7: Z-Scores and Interpretation\")\n",
    "print(f\"Z-score for x = 60: {z1}\")\n",
    "print(f\"Z-score for x = 40: {z2}\")\n",
    "print(\"Interpretation: x = 60 is 1 standard deviation above the mean; x = 40 is 1 standard deviation below the mean.\")"
   ]
  },
  {
   "cell_type": "code",
   "execution_count": null,
   "id": "e7d3e3a6-8657-49c1-85ed-53f3ecdcffde",
   "metadata": {},
   "outputs": [],
   "source": []
  }
 ],
 "metadata": {
  "kernelspec": {
   "display_name": "Python 3 (ipykernel)",
   "language": "python",
   "name": "python3"
  },
  "language_info": {
   "codemirror_mode": {
    "name": "ipython",
    "version": 3
   },
   "file_extension": ".py",
   "mimetype": "text/x-python",
   "name": "python",
   "nbconvert_exporter": "python",
   "pygments_lexer": "ipython3",
   "version": "3.10.11"
  }
 },
 "nbformat": 4,
 "nbformat_minor": 5
}
